{
 "cells": [
  {
   "cell_type": "markdown",
   "id": "fe0558af",
   "metadata": {},
   "source": [
    "# Can we predict heart disease?\n",
    "\n",
    "Being the leading cause of deaths worldwide, a way of predicting a person's likelihood of developing heart disease would be huge.\n",
    "\n"
   ]
  },
  {
   "cell_type": "code",
   "execution_count": 56,
   "id": "260bf579",
   "metadata": {},
   "outputs": [],
   "source": [
    "import pandas as pd\n",
    "import numpy as np\n",
    "import seaborn as sns\n",
    "import matplotlib.pyplot as plt\n",
    "from sklearn.preprocessing import OrdinalEncoder\n",
    "from sklearn.preprocessing import StandardScaler\n",
    "from sklearn.tree import DecisionTreeClassifier\n",
    "from skopt import BayesSearchCV\n",
    "from skopt.space import Real, Integer, Categorical\n",
    "from scipy.stats import uniform, poisson\n",
    "import time"
   ]
  },
  {
   "cell_type": "code",
   "execution_count": 2,
   "id": "5c9dcc4e",
   "metadata": {},
   "outputs": [
    {
     "data": {
      "text/html": [
       "<div>\n",
       "<style scoped>\n",
       "    .dataframe tbody tr th:only-of-type {\n",
       "        vertical-align: middle;\n",
       "    }\n",
       "\n",
       "    .dataframe tbody tr th {\n",
       "        vertical-align: top;\n",
       "    }\n",
       "\n",
       "    .dataframe thead th {\n",
       "        text-align: right;\n",
       "    }\n",
       "</style>\n",
       "<table border=\"1\" class=\"dataframe\">\n",
       "  <thead>\n",
       "    <tr style=\"text-align: right;\">\n",
       "      <th></th>\n",
       "      <th>General_Health</th>\n",
       "      <th>Checkup</th>\n",
       "      <th>Exercise</th>\n",
       "      <th>Heart_Disease</th>\n",
       "      <th>Skin_Cancer</th>\n",
       "      <th>Other_Cancer</th>\n",
       "      <th>Depression</th>\n",
       "      <th>Diabetes</th>\n",
       "      <th>Arthritis</th>\n",
       "      <th>Sex</th>\n",
       "      <th>Age_Category</th>\n",
       "      <th>Height_(cm)</th>\n",
       "      <th>Weight_(kg)</th>\n",
       "      <th>BMI</th>\n",
       "      <th>Smoking_History</th>\n",
       "      <th>Alcohol_Consumption</th>\n",
       "      <th>Fruit_Consumption</th>\n",
       "      <th>Green_Vegetables_Consumption</th>\n",
       "      <th>FriedPotato_Consumption</th>\n",
       "    </tr>\n",
       "  </thead>\n",
       "  <tbody>\n",
       "    <tr>\n",
       "      <th>102955</th>\n",
       "      <td>Very Good</td>\n",
       "      <td>Within the past year</td>\n",
       "      <td>No</td>\n",
       "      <td>No</td>\n",
       "      <td>No</td>\n",
       "      <td>No</td>\n",
       "      <td>No</td>\n",
       "      <td>No</td>\n",
       "      <td>No</td>\n",
       "      <td>Female</td>\n",
       "      <td>80+</td>\n",
       "      <td>163.0</td>\n",
       "      <td>63.50</td>\n",
       "      <td>24.03</td>\n",
       "      <td>No</td>\n",
       "      <td>0.0</td>\n",
       "      <td>30.0</td>\n",
       "      <td>30.0</td>\n",
       "      <td>0.0</td>\n",
       "    </tr>\n",
       "    <tr>\n",
       "      <th>190574</th>\n",
       "      <td>Good</td>\n",
       "      <td>Within the past year</td>\n",
       "      <td>Yes</td>\n",
       "      <td>No</td>\n",
       "      <td>No</td>\n",
       "      <td>No</td>\n",
       "      <td>No</td>\n",
       "      <td>No</td>\n",
       "      <td>No</td>\n",
       "      <td>Female</td>\n",
       "      <td>45-49</td>\n",
       "      <td>163.0</td>\n",
       "      <td>77.11</td>\n",
       "      <td>29.18</td>\n",
       "      <td>Yes</td>\n",
       "      <td>8.0</td>\n",
       "      <td>1.0</td>\n",
       "      <td>4.0</td>\n",
       "      <td>4.0</td>\n",
       "    </tr>\n",
       "    <tr>\n",
       "      <th>100850</th>\n",
       "      <td>Excellent</td>\n",
       "      <td>Within the past 2 years</td>\n",
       "      <td>Yes</td>\n",
       "      <td>No</td>\n",
       "      <td>No</td>\n",
       "      <td>No</td>\n",
       "      <td>No</td>\n",
       "      <td>No</td>\n",
       "      <td>No</td>\n",
       "      <td>Male</td>\n",
       "      <td>60-64</td>\n",
       "      <td>180.0</td>\n",
       "      <td>111.13</td>\n",
       "      <td>34.17</td>\n",
       "      <td>No</td>\n",
       "      <td>12.0</td>\n",
       "      <td>30.0</td>\n",
       "      <td>30.0</td>\n",
       "      <td>4.0</td>\n",
       "    </tr>\n",
       "    <tr>\n",
       "      <th>131135</th>\n",
       "      <td>Good</td>\n",
       "      <td>Within the past year</td>\n",
       "      <td>Yes</td>\n",
       "      <td>No</td>\n",
       "      <td>No</td>\n",
       "      <td>No</td>\n",
       "      <td>No</td>\n",
       "      <td>No</td>\n",
       "      <td>Yes</td>\n",
       "      <td>Female</td>\n",
       "      <td>55-59</td>\n",
       "      <td>157.0</td>\n",
       "      <td>83.46</td>\n",
       "      <td>33.65</td>\n",
       "      <td>No</td>\n",
       "      <td>4.0</td>\n",
       "      <td>8.0</td>\n",
       "      <td>25.0</td>\n",
       "      <td>4.0</td>\n",
       "    </tr>\n",
       "    <tr>\n",
       "      <th>119467</th>\n",
       "      <td>Excellent</td>\n",
       "      <td>Within the past 2 years</td>\n",
       "      <td>No</td>\n",
       "      <td>No</td>\n",
       "      <td>Yes</td>\n",
       "      <td>No</td>\n",
       "      <td>No</td>\n",
       "      <td>No</td>\n",
       "      <td>Yes</td>\n",
       "      <td>Male</td>\n",
       "      <td>70-74</td>\n",
       "      <td>170.0</td>\n",
       "      <td>72.57</td>\n",
       "      <td>25.06</td>\n",
       "      <td>No</td>\n",
       "      <td>0.0</td>\n",
       "      <td>60.0</td>\n",
       "      <td>12.0</td>\n",
       "      <td>5.0</td>\n",
       "    </tr>\n",
       "  </tbody>\n",
       "</table>\n",
       "</div>"
      ],
      "text/plain": [
       "       General_Health                  Checkup Exercise Heart_Disease  \\\n",
       "102955      Very Good     Within the past year       No            No   \n",
       "190574           Good     Within the past year      Yes            No   \n",
       "100850      Excellent  Within the past 2 years      Yes            No   \n",
       "131135           Good     Within the past year      Yes            No   \n",
       "119467      Excellent  Within the past 2 years       No            No   \n",
       "\n",
       "       Skin_Cancer Other_Cancer Depression Diabetes Arthritis     Sex  \\\n",
       "102955          No           No         No       No        No  Female   \n",
       "190574          No           No         No       No        No  Female   \n",
       "100850          No           No         No       No        No    Male   \n",
       "131135          No           No         No       No       Yes  Female   \n",
       "119467         Yes           No         No       No       Yes    Male   \n",
       "\n",
       "       Age_Category  Height_(cm)  Weight_(kg)    BMI Smoking_History  \\\n",
       "102955          80+        163.0        63.50  24.03              No   \n",
       "190574        45-49        163.0        77.11  29.18             Yes   \n",
       "100850        60-64        180.0       111.13  34.17              No   \n",
       "131135        55-59        157.0        83.46  33.65              No   \n",
       "119467        70-74        170.0        72.57  25.06              No   \n",
       "\n",
       "        Alcohol_Consumption  Fruit_Consumption  Green_Vegetables_Consumption  \\\n",
       "102955                  0.0               30.0                          30.0   \n",
       "190574                  8.0                1.0                           4.0   \n",
       "100850                 12.0               30.0                          30.0   \n",
       "131135                  4.0                8.0                          25.0   \n",
       "119467                  0.0               60.0                          12.0   \n",
       "\n",
       "        FriedPotato_Consumption  \n",
       "102955                      0.0  \n",
       "190574                      4.0  \n",
       "100850                      4.0  \n",
       "131135                      4.0  \n",
       "119467                      5.0  "
      ]
     },
     "execution_count": 2,
     "metadata": {},
     "output_type": "execute_result"
    }
   ],
   "source": [
    "df = pd.read_csv('/Users/fredhome/Documents/SQL/SQL datasets/CVD.csv')\n",
    "df.sample(5)"
   ]
  },
  {
   "cell_type": "code",
   "execution_count": 3,
   "id": "f94f62d3",
   "metadata": {},
   "outputs": [
    {
     "name": "stdout",
     "output_type": "stream",
     "text": [
      "<class 'pandas.core.frame.DataFrame'>\n",
      "RangeIndex: 308854 entries, 0 to 308853\n",
      "Data columns (total 19 columns):\n",
      " #   Column                        Non-Null Count   Dtype  \n",
      "---  ------                        --------------   -----  \n",
      " 0   General_Health                308854 non-null  object \n",
      " 1   Checkup                       308854 non-null  object \n",
      " 2   Exercise                      308854 non-null  object \n",
      " 3   Heart_Disease                 308854 non-null  object \n",
      " 4   Skin_Cancer                   308854 non-null  object \n",
      " 5   Other_Cancer                  308854 non-null  object \n",
      " 6   Depression                    308854 non-null  object \n",
      " 7   Diabetes                      308854 non-null  object \n",
      " 8   Arthritis                     308854 non-null  object \n",
      " 9   Sex                           308854 non-null  object \n",
      " 10  Age_Category                  308854 non-null  object \n",
      " 11  Height_(cm)                   308854 non-null  float64\n",
      " 12  Weight_(kg)                   308854 non-null  float64\n",
      " 13  BMI                           308854 non-null  float64\n",
      " 14  Smoking_History               308854 non-null  object \n",
      " 15  Alcohol_Consumption           308854 non-null  float64\n",
      " 16  Fruit_Consumption             308854 non-null  float64\n",
      " 17  Green_Vegetables_Consumption  308854 non-null  float64\n",
      " 18  FriedPotato_Consumption       308854 non-null  float64\n",
      "dtypes: float64(7), object(12)\n",
      "memory usage: 44.8+ MB\n"
     ]
    }
   ],
   "source": [
    "df.info()"
   ]
  },
  {
   "cell_type": "code",
   "execution_count": 4,
   "id": "7fda075a",
   "metadata": {},
   "outputs": [
    {
     "data": {
      "text/plain": [
       "80"
      ]
     },
     "execution_count": 4,
     "metadata": {},
     "output_type": "execute_result"
    }
   ],
   "source": [
    "df.duplicated().sum()"
   ]
  },
  {
   "cell_type": "markdown",
   "id": "88042720",
   "metadata": {},
   "source": [
    "There's no true ways of identifying uniqueness between rows in this dataset, so we will keep all the information."
   ]
  },
  {
   "cell_type": "code",
   "execution_count": 5,
   "id": "bb1ca3c9",
   "metadata": {},
   "outputs": [
    {
     "data": {
      "text/html": [
       "<div>\n",
       "<style scoped>\n",
       "    .dataframe tbody tr th:only-of-type {\n",
       "        vertical-align: middle;\n",
       "    }\n",
       "\n",
       "    .dataframe tbody tr th {\n",
       "        vertical-align: top;\n",
       "    }\n",
       "\n",
       "    .dataframe thead th {\n",
       "        text-align: right;\n",
       "    }\n",
       "</style>\n",
       "<table border=\"1\" class=\"dataframe\">\n",
       "  <thead>\n",
       "    <tr style=\"text-align: right;\">\n",
       "      <th></th>\n",
       "      <th>General_Health</th>\n",
       "      <th>Checkup</th>\n",
       "      <th>Exercise</th>\n",
       "      <th>Heart_Disease</th>\n",
       "      <th>Skin_Cancer</th>\n",
       "      <th>Other_Cancer</th>\n",
       "      <th>Depression</th>\n",
       "      <th>Diabetes</th>\n",
       "      <th>Arthritis</th>\n",
       "      <th>Sex</th>\n",
       "      <th>Age_Category</th>\n",
       "      <th>Height_(cm)</th>\n",
       "      <th>Weight_(kg)</th>\n",
       "      <th>BMI</th>\n",
       "      <th>Smoking_History</th>\n",
       "      <th>Alcohol_Consumption</th>\n",
       "      <th>Fruit_Consumption</th>\n",
       "      <th>Green_Vegetables_Consumption</th>\n",
       "      <th>FriedPotato_Consumption</th>\n",
       "    </tr>\n",
       "  </thead>\n",
       "  <tbody>\n",
       "    <tr>\n",
       "      <th>count</th>\n",
       "      <td>308854</td>\n",
       "      <td>308854</td>\n",
       "      <td>308854</td>\n",
       "      <td>308854</td>\n",
       "      <td>308854</td>\n",
       "      <td>308854</td>\n",
       "      <td>308854</td>\n",
       "      <td>308854</td>\n",
       "      <td>308854</td>\n",
       "      <td>308854</td>\n",
       "      <td>308854</td>\n",
       "      <td>308854.000000</td>\n",
       "      <td>308854.000000</td>\n",
       "      <td>308854.000000</td>\n",
       "      <td>308854</td>\n",
       "      <td>308854.000000</td>\n",
       "      <td>308854.000000</td>\n",
       "      <td>308854.000000</td>\n",
       "      <td>308854.000000</td>\n",
       "    </tr>\n",
       "    <tr>\n",
       "      <th>unique</th>\n",
       "      <td>5</td>\n",
       "      <td>5</td>\n",
       "      <td>2</td>\n",
       "      <td>2</td>\n",
       "      <td>2</td>\n",
       "      <td>2</td>\n",
       "      <td>2</td>\n",
       "      <td>4</td>\n",
       "      <td>2</td>\n",
       "      <td>2</td>\n",
       "      <td>13</td>\n",
       "      <td>NaN</td>\n",
       "      <td>NaN</td>\n",
       "      <td>NaN</td>\n",
       "      <td>2</td>\n",
       "      <td>NaN</td>\n",
       "      <td>NaN</td>\n",
       "      <td>NaN</td>\n",
       "      <td>NaN</td>\n",
       "    </tr>\n",
       "    <tr>\n",
       "      <th>top</th>\n",
       "      <td>Very Good</td>\n",
       "      <td>Within the past year</td>\n",
       "      <td>Yes</td>\n",
       "      <td>No</td>\n",
       "      <td>No</td>\n",
       "      <td>No</td>\n",
       "      <td>No</td>\n",
       "      <td>No</td>\n",
       "      <td>No</td>\n",
       "      <td>Female</td>\n",
       "      <td>65-69</td>\n",
       "      <td>NaN</td>\n",
       "      <td>NaN</td>\n",
       "      <td>NaN</td>\n",
       "      <td>No</td>\n",
       "      <td>NaN</td>\n",
       "      <td>NaN</td>\n",
       "      <td>NaN</td>\n",
       "      <td>NaN</td>\n",
       "    </tr>\n",
       "    <tr>\n",
       "      <th>freq</th>\n",
       "      <td>110395</td>\n",
       "      <td>239371</td>\n",
       "      <td>239381</td>\n",
       "      <td>283883</td>\n",
       "      <td>278860</td>\n",
       "      <td>278976</td>\n",
       "      <td>246953</td>\n",
       "      <td>259141</td>\n",
       "      <td>207783</td>\n",
       "      <td>160196</td>\n",
       "      <td>33434</td>\n",
       "      <td>NaN</td>\n",
       "      <td>NaN</td>\n",
       "      <td>NaN</td>\n",
       "      <td>183590</td>\n",
       "      <td>NaN</td>\n",
       "      <td>NaN</td>\n",
       "      <td>NaN</td>\n",
       "      <td>NaN</td>\n",
       "    </tr>\n",
       "    <tr>\n",
       "      <th>mean</th>\n",
       "      <td>NaN</td>\n",
       "      <td>NaN</td>\n",
       "      <td>NaN</td>\n",
       "      <td>NaN</td>\n",
       "      <td>NaN</td>\n",
       "      <td>NaN</td>\n",
       "      <td>NaN</td>\n",
       "      <td>NaN</td>\n",
       "      <td>NaN</td>\n",
       "      <td>NaN</td>\n",
       "      <td>NaN</td>\n",
       "      <td>170.615249</td>\n",
       "      <td>83.588655</td>\n",
       "      <td>28.626211</td>\n",
       "      <td>NaN</td>\n",
       "      <td>5.096366</td>\n",
       "      <td>29.835200</td>\n",
       "      <td>15.110441</td>\n",
       "      <td>6.296616</td>\n",
       "    </tr>\n",
       "    <tr>\n",
       "      <th>std</th>\n",
       "      <td>NaN</td>\n",
       "      <td>NaN</td>\n",
       "      <td>NaN</td>\n",
       "      <td>NaN</td>\n",
       "      <td>NaN</td>\n",
       "      <td>NaN</td>\n",
       "      <td>NaN</td>\n",
       "      <td>NaN</td>\n",
       "      <td>NaN</td>\n",
       "      <td>NaN</td>\n",
       "      <td>NaN</td>\n",
       "      <td>10.658026</td>\n",
       "      <td>21.343210</td>\n",
       "      <td>6.522323</td>\n",
       "      <td>NaN</td>\n",
       "      <td>8.199763</td>\n",
       "      <td>24.875735</td>\n",
       "      <td>14.926238</td>\n",
       "      <td>8.582954</td>\n",
       "    </tr>\n",
       "    <tr>\n",
       "      <th>min</th>\n",
       "      <td>NaN</td>\n",
       "      <td>NaN</td>\n",
       "      <td>NaN</td>\n",
       "      <td>NaN</td>\n",
       "      <td>NaN</td>\n",
       "      <td>NaN</td>\n",
       "      <td>NaN</td>\n",
       "      <td>NaN</td>\n",
       "      <td>NaN</td>\n",
       "      <td>NaN</td>\n",
       "      <td>NaN</td>\n",
       "      <td>91.000000</td>\n",
       "      <td>24.950000</td>\n",
       "      <td>12.020000</td>\n",
       "      <td>NaN</td>\n",
       "      <td>0.000000</td>\n",
       "      <td>0.000000</td>\n",
       "      <td>0.000000</td>\n",
       "      <td>0.000000</td>\n",
       "    </tr>\n",
       "    <tr>\n",
       "      <th>25%</th>\n",
       "      <td>NaN</td>\n",
       "      <td>NaN</td>\n",
       "      <td>NaN</td>\n",
       "      <td>NaN</td>\n",
       "      <td>NaN</td>\n",
       "      <td>NaN</td>\n",
       "      <td>NaN</td>\n",
       "      <td>NaN</td>\n",
       "      <td>NaN</td>\n",
       "      <td>NaN</td>\n",
       "      <td>NaN</td>\n",
       "      <td>163.000000</td>\n",
       "      <td>68.040000</td>\n",
       "      <td>24.210000</td>\n",
       "      <td>NaN</td>\n",
       "      <td>0.000000</td>\n",
       "      <td>12.000000</td>\n",
       "      <td>4.000000</td>\n",
       "      <td>2.000000</td>\n",
       "    </tr>\n",
       "    <tr>\n",
       "      <th>50%</th>\n",
       "      <td>NaN</td>\n",
       "      <td>NaN</td>\n",
       "      <td>NaN</td>\n",
       "      <td>NaN</td>\n",
       "      <td>NaN</td>\n",
       "      <td>NaN</td>\n",
       "      <td>NaN</td>\n",
       "      <td>NaN</td>\n",
       "      <td>NaN</td>\n",
       "      <td>NaN</td>\n",
       "      <td>NaN</td>\n",
       "      <td>170.000000</td>\n",
       "      <td>81.650000</td>\n",
       "      <td>27.440000</td>\n",
       "      <td>NaN</td>\n",
       "      <td>1.000000</td>\n",
       "      <td>30.000000</td>\n",
       "      <td>12.000000</td>\n",
       "      <td>4.000000</td>\n",
       "    </tr>\n",
       "    <tr>\n",
       "      <th>75%</th>\n",
       "      <td>NaN</td>\n",
       "      <td>NaN</td>\n",
       "      <td>NaN</td>\n",
       "      <td>NaN</td>\n",
       "      <td>NaN</td>\n",
       "      <td>NaN</td>\n",
       "      <td>NaN</td>\n",
       "      <td>NaN</td>\n",
       "      <td>NaN</td>\n",
       "      <td>NaN</td>\n",
       "      <td>NaN</td>\n",
       "      <td>178.000000</td>\n",
       "      <td>95.250000</td>\n",
       "      <td>31.850000</td>\n",
       "      <td>NaN</td>\n",
       "      <td>6.000000</td>\n",
       "      <td>30.000000</td>\n",
       "      <td>20.000000</td>\n",
       "      <td>8.000000</td>\n",
       "    </tr>\n",
       "    <tr>\n",
       "      <th>max</th>\n",
       "      <td>NaN</td>\n",
       "      <td>NaN</td>\n",
       "      <td>NaN</td>\n",
       "      <td>NaN</td>\n",
       "      <td>NaN</td>\n",
       "      <td>NaN</td>\n",
       "      <td>NaN</td>\n",
       "      <td>NaN</td>\n",
       "      <td>NaN</td>\n",
       "      <td>NaN</td>\n",
       "      <td>NaN</td>\n",
       "      <td>241.000000</td>\n",
       "      <td>293.020000</td>\n",
       "      <td>99.330000</td>\n",
       "      <td>NaN</td>\n",
       "      <td>30.000000</td>\n",
       "      <td>120.000000</td>\n",
       "      <td>128.000000</td>\n",
       "      <td>128.000000</td>\n",
       "    </tr>\n",
       "  </tbody>\n",
       "</table>\n",
       "</div>"
      ],
      "text/plain": [
       "       General_Health               Checkup Exercise Heart_Disease  \\\n",
       "count          308854                308854   308854        308854   \n",
       "unique              5                     5        2             2   \n",
       "top         Very Good  Within the past year      Yes            No   \n",
       "freq           110395                239371   239381        283883   \n",
       "mean              NaN                   NaN      NaN           NaN   \n",
       "std               NaN                   NaN      NaN           NaN   \n",
       "min               NaN                   NaN      NaN           NaN   \n",
       "25%               NaN                   NaN      NaN           NaN   \n",
       "50%               NaN                   NaN      NaN           NaN   \n",
       "75%               NaN                   NaN      NaN           NaN   \n",
       "max               NaN                   NaN      NaN           NaN   \n",
       "\n",
       "       Skin_Cancer Other_Cancer Depression Diabetes Arthritis     Sex  \\\n",
       "count       308854       308854     308854   308854    308854  308854   \n",
       "unique           2            2          2        4         2       2   \n",
       "top             No           No         No       No        No  Female   \n",
       "freq        278860       278976     246953   259141    207783  160196   \n",
       "mean           NaN          NaN        NaN      NaN       NaN     NaN   \n",
       "std            NaN          NaN        NaN      NaN       NaN     NaN   \n",
       "min            NaN          NaN        NaN      NaN       NaN     NaN   \n",
       "25%            NaN          NaN        NaN      NaN       NaN     NaN   \n",
       "50%            NaN          NaN        NaN      NaN       NaN     NaN   \n",
       "75%            NaN          NaN        NaN      NaN       NaN     NaN   \n",
       "max            NaN          NaN        NaN      NaN       NaN     NaN   \n",
       "\n",
       "       Age_Category    Height_(cm)    Weight_(kg)            BMI  \\\n",
       "count        308854  308854.000000  308854.000000  308854.000000   \n",
       "unique           13            NaN            NaN            NaN   \n",
       "top           65-69            NaN            NaN            NaN   \n",
       "freq          33434            NaN            NaN            NaN   \n",
       "mean            NaN     170.615249      83.588655      28.626211   \n",
       "std             NaN      10.658026      21.343210       6.522323   \n",
       "min             NaN      91.000000      24.950000      12.020000   \n",
       "25%             NaN     163.000000      68.040000      24.210000   \n",
       "50%             NaN     170.000000      81.650000      27.440000   \n",
       "75%             NaN     178.000000      95.250000      31.850000   \n",
       "max             NaN     241.000000     293.020000      99.330000   \n",
       "\n",
       "       Smoking_History  Alcohol_Consumption  Fruit_Consumption  \\\n",
       "count           308854        308854.000000      308854.000000   \n",
       "unique               2                  NaN                NaN   \n",
       "top                 No                  NaN                NaN   \n",
       "freq            183590                  NaN                NaN   \n",
       "mean               NaN             5.096366          29.835200   \n",
       "std                NaN             8.199763          24.875735   \n",
       "min                NaN             0.000000           0.000000   \n",
       "25%                NaN             0.000000          12.000000   \n",
       "50%                NaN             1.000000          30.000000   \n",
       "75%                NaN             6.000000          30.000000   \n",
       "max                NaN            30.000000         120.000000   \n",
       "\n",
       "        Green_Vegetables_Consumption  FriedPotato_Consumption  \n",
       "count                  308854.000000            308854.000000  \n",
       "unique                           NaN                      NaN  \n",
       "top                              NaN                      NaN  \n",
       "freq                             NaN                      NaN  \n",
       "mean                       15.110441                 6.296616  \n",
       "std                        14.926238                 8.582954  \n",
       "min                         0.000000                 0.000000  \n",
       "25%                         4.000000                 2.000000  \n",
       "50%                        12.000000                 4.000000  \n",
       "75%                        20.000000                 8.000000  \n",
       "max                       128.000000               128.000000  "
      ]
     },
     "execution_count": 5,
     "metadata": {},
     "output_type": "execute_result"
    }
   ],
   "source": [
    "df.describe(include='all')"
   ]
  },
  {
   "cell_type": "markdown",
   "id": "97f8fd44",
   "metadata": {},
   "source": [
    "We are not interested in when a patient's last checkup was, as the frequency of their past checkups doesn't change\n",
    "them having heart disease now."
   ]
  },
  {
   "cell_type": "code",
   "execution_count": 6,
   "id": "74dd38eb",
   "metadata": {},
   "outputs": [],
   "source": [
    "df.drop(['Checkup'], axis=1, inplace=True)"
   ]
  },
  {
   "cell_type": "code",
   "execution_count": 7,
   "id": "3c5a0b54",
   "metadata": {},
   "outputs": [
    {
     "data": {
      "text/plain": [
       "array(['No', 'Yes', 'No, pre-diabetes or borderline diabetes',\n",
       "       'Yes, but female told only during pregnancy'], dtype=object)"
      ]
     },
     "execution_count": 7,
     "metadata": {},
     "output_type": "execute_result"
    }
   ],
   "source": [
    "df.Diabetes.unique()"
   ]
  },
  {
   "cell_type": "markdown",
   "id": "76d21dcd",
   "metadata": {},
   "source": [
    "We only want yes and no."
   ]
  },
  {
   "cell_type": "code",
   "execution_count": 8,
   "id": "f5c857bd",
   "metadata": {},
   "outputs": [
    {
     "data": {
      "text/plain": [
       "array(['No', 'Yes'], dtype=object)"
      ]
     },
     "execution_count": 8,
     "metadata": {},
     "output_type": "execute_result"
    }
   ],
   "source": [
    "df.Diabetes = df.Diabetes.str.replace('No, pre-diabetes or borderline diabetes', 'No')\n",
    "df.Diabetes = df.Diabetes.str.replace('Yes, but female told only during pregnancy', 'Yes')\n",
    "df.Diabetes.unique()"
   ]
  },
  {
   "cell_type": "code",
   "execution_count": 9,
   "id": "53d3e9b1",
   "metadata": {},
   "outputs": [
    {
     "data": {
      "text/plain": [
       "General_Health                  0\n",
       "Exercise                        0\n",
       "Heart_Disease                   0\n",
       "Skin_Cancer                     0\n",
       "Other_Cancer                    0\n",
       "Depression                      0\n",
       "Diabetes                        0\n",
       "Arthritis                       0\n",
       "Sex                             0\n",
       "Age_Category                    0\n",
       "Height_(cm)                     0\n",
       "Weight_(kg)                     0\n",
       "BMI                             0\n",
       "Smoking_History                 0\n",
       "Alcohol_Consumption             0\n",
       "Fruit_Consumption               0\n",
       "Green_Vegetables_Consumption    0\n",
       "FriedPotato_Consumption         0\n",
       "dtype: int64"
      ]
     },
     "execution_count": 9,
     "metadata": {},
     "output_type": "execute_result"
    }
   ],
   "source": [
    "df.isna().sum()"
   ]
  },
  {
   "cell_type": "markdown",
   "id": "7dfd28ef",
   "metadata": {},
   "source": [
    "We need to change the discrete columns into binary"
   ]
  },
  {
   "cell_type": "code",
   "execution_count": 10,
   "id": "dbb49e1b",
   "metadata": {},
   "outputs": [
    {
     "data": {
      "text/html": [
       "<div>\n",
       "<style scoped>\n",
       "    .dataframe tbody tr th:only-of-type {\n",
       "        vertical-align: middle;\n",
       "    }\n",
       "\n",
       "    .dataframe tbody tr th {\n",
       "        vertical-align: top;\n",
       "    }\n",
       "\n",
       "    .dataframe thead th {\n",
       "        text-align: right;\n",
       "    }\n",
       "</style>\n",
       "<table border=\"1\" class=\"dataframe\">\n",
       "  <thead>\n",
       "    <tr style=\"text-align: right;\">\n",
       "      <th></th>\n",
       "      <th>General_Health</th>\n",
       "      <th>Exercise</th>\n",
       "      <th>Heart_Disease</th>\n",
       "      <th>Skin_Cancer</th>\n",
       "      <th>Other_Cancer</th>\n",
       "      <th>Depression</th>\n",
       "      <th>Diabetes</th>\n",
       "      <th>Arthritis</th>\n",
       "      <th>Sex</th>\n",
       "      <th>Age_Category</th>\n",
       "      <th>Height_(cm)</th>\n",
       "      <th>Weight_(kg)</th>\n",
       "      <th>BMI</th>\n",
       "      <th>Smoking_History</th>\n",
       "      <th>Alcohol_Consumption</th>\n",
       "      <th>Fruit_Consumption</th>\n",
       "      <th>Green_Vegetables_Consumption</th>\n",
       "      <th>FriedPotato_Consumption</th>\n",
       "    </tr>\n",
       "  </thead>\n",
       "  <tbody>\n",
       "    <tr>\n",
       "      <th>0</th>\n",
       "      <td>Poor</td>\n",
       "      <td>0</td>\n",
       "      <td>0</td>\n",
       "      <td>0</td>\n",
       "      <td>0</td>\n",
       "      <td>0</td>\n",
       "      <td>0</td>\n",
       "      <td>1</td>\n",
       "      <td>0</td>\n",
       "      <td>70-74</td>\n",
       "      <td>150.0</td>\n",
       "      <td>32.66</td>\n",
       "      <td>14.54</td>\n",
       "      <td>1</td>\n",
       "      <td>0.0</td>\n",
       "      <td>30.0</td>\n",
       "      <td>16.0</td>\n",
       "      <td>12.0</td>\n",
       "    </tr>\n",
       "    <tr>\n",
       "      <th>1</th>\n",
       "      <td>Very Good</td>\n",
       "      <td>0</td>\n",
       "      <td>1</td>\n",
       "      <td>0</td>\n",
       "      <td>0</td>\n",
       "      <td>0</td>\n",
       "      <td>1</td>\n",
       "      <td>0</td>\n",
       "      <td>0</td>\n",
       "      <td>70-74</td>\n",
       "      <td>165.0</td>\n",
       "      <td>77.11</td>\n",
       "      <td>28.29</td>\n",
       "      <td>0</td>\n",
       "      <td>0.0</td>\n",
       "      <td>30.0</td>\n",
       "      <td>0.0</td>\n",
       "      <td>4.0</td>\n",
       "    </tr>\n",
       "    <tr>\n",
       "      <th>2</th>\n",
       "      <td>Very Good</td>\n",
       "      <td>1</td>\n",
       "      <td>0</td>\n",
       "      <td>0</td>\n",
       "      <td>0</td>\n",
       "      <td>0</td>\n",
       "      <td>1</td>\n",
       "      <td>0</td>\n",
       "      <td>0</td>\n",
       "      <td>60-64</td>\n",
       "      <td>163.0</td>\n",
       "      <td>88.45</td>\n",
       "      <td>33.47</td>\n",
       "      <td>0</td>\n",
       "      <td>4.0</td>\n",
       "      <td>12.0</td>\n",
       "      <td>3.0</td>\n",
       "      <td>16.0</td>\n",
       "    </tr>\n",
       "    <tr>\n",
       "      <th>3</th>\n",
       "      <td>Poor</td>\n",
       "      <td>1</td>\n",
       "      <td>1</td>\n",
       "      <td>0</td>\n",
       "      <td>0</td>\n",
       "      <td>0</td>\n",
       "      <td>1</td>\n",
       "      <td>0</td>\n",
       "      <td>1</td>\n",
       "      <td>75-79</td>\n",
       "      <td>180.0</td>\n",
       "      <td>93.44</td>\n",
       "      <td>28.73</td>\n",
       "      <td>0</td>\n",
       "      <td>0.0</td>\n",
       "      <td>30.0</td>\n",
       "      <td>30.0</td>\n",
       "      <td>8.0</td>\n",
       "    </tr>\n",
       "    <tr>\n",
       "      <th>4</th>\n",
       "      <td>Good</td>\n",
       "      <td>0</td>\n",
       "      <td>0</td>\n",
       "      <td>0</td>\n",
       "      <td>0</td>\n",
       "      <td>0</td>\n",
       "      <td>0</td>\n",
       "      <td>0</td>\n",
       "      <td>1</td>\n",
       "      <td>80+</td>\n",
       "      <td>191.0</td>\n",
       "      <td>88.45</td>\n",
       "      <td>24.37</td>\n",
       "      <td>1</td>\n",
       "      <td>0.0</td>\n",
       "      <td>8.0</td>\n",
       "      <td>4.0</td>\n",
       "      <td>0.0</td>\n",
       "    </tr>\n",
       "  </tbody>\n",
       "</table>\n",
       "</div>"
      ],
      "text/plain": [
       "  General_Health  Exercise  Heart_Disease  Skin_Cancer  Other_Cancer  \\\n",
       "0           Poor         0              0            0             0   \n",
       "1      Very Good         0              1            0             0   \n",
       "2      Very Good         1              0            0             0   \n",
       "3           Poor         1              1            0             0   \n",
       "4           Good         0              0            0             0   \n",
       "\n",
       "   Depression  Diabetes  Arthritis  Sex Age_Category  Height_(cm)  \\\n",
       "0           0         0          1    0        70-74        150.0   \n",
       "1           0         1          0    0        70-74        165.0   \n",
       "2           0         1          0    0        60-64        163.0   \n",
       "3           0         1          0    1        75-79        180.0   \n",
       "4           0         0          0    1          80+        191.0   \n",
       "\n",
       "   Weight_(kg)    BMI  Smoking_History  Alcohol_Consumption  \\\n",
       "0        32.66  14.54                1                  0.0   \n",
       "1        77.11  28.29                0                  0.0   \n",
       "2        88.45  33.47                0                  4.0   \n",
       "3        93.44  28.73                0                  0.0   \n",
       "4        88.45  24.37                1                  0.0   \n",
       "\n",
       "   Fruit_Consumption  Green_Vegetables_Consumption  FriedPotato_Consumption  \n",
       "0               30.0                          16.0                     12.0  \n",
       "1               30.0                           0.0                      4.0  \n",
       "2               12.0                           3.0                     16.0  \n",
       "3               30.0                          30.0                      8.0  \n",
       "4                8.0                           4.0                      0.0  "
      ]
     },
     "execution_count": 10,
     "metadata": {},
     "output_type": "execute_result"
    }
   ],
   "source": [
    "mapper = {'Yes': 1, 'No': 0}\n",
    "gender = {'Male': 1, 'Female': 0}\n",
    "df.Exercise = [mapper[item] for item in df.Exercise]\n",
    "df.Heart_Disease = [mapper[item] for item in df.Heart_Disease]\n",
    "df.Skin_Cancer = [mapper[item] for item in df.Skin_Cancer]\n",
    "df.Other_Cancer = [mapper[item] for item in df.Other_Cancer]\n",
    "df.Depression = [mapper[item] for item in df.Depression]\n",
    "df.Diabetes = [mapper[item] for item in df.Diabetes]\n",
    "df.Arthritis = [mapper[item] for item in df.Arthritis]\n",
    "df.Smoking_History = [mapper[item] for item in df.Smoking_History]\n",
    "df.Sex = [gender[item] for item in df.Sex]\n",
    "\n",
    "df.head()"
   ]
  },
  {
   "cell_type": "code",
   "execution_count": 11,
   "id": "0d0a7cd1",
   "metadata": {},
   "outputs": [
    {
     "data": {
      "text/plain": [
       "array(['Poor', 'Very Good', 'Good', 'Fair', 'Excellent'], dtype=object)"
      ]
     },
     "execution_count": 11,
     "metadata": {},
     "output_type": "execute_result"
    }
   ],
   "source": [
    "df.General_Health.unique()"
   ]
  },
  {
   "cell_type": "code",
   "execution_count": 12,
   "id": "7ae19c1a",
   "metadata": {},
   "outputs": [],
   "source": [
    "encoder = OrdinalEncoder(categories=[['Excellent', 'Very Good', 'Good', 'Fair', 'Poor']])\n",
    "# reshape our feature\n",
    "condition_reshaped = df.General_Health.values.reshape(-1,1)\n",
    "# create new variable with assigned numbers\n",
    "df['Health_Rating'] = encoder.fit_transform(condition_reshaped)"
   ]
  },
  {
   "cell_type": "code",
   "execution_count": 13,
   "id": "9b775caa",
   "metadata": {},
   "outputs": [
    {
     "data": {
      "text/plain": [
       "General_Health                   object\n",
       "Exercise                          int64\n",
       "Heart_Disease                     int64\n",
       "Skin_Cancer                       int64\n",
       "Other_Cancer                      int64\n",
       "Depression                        int64\n",
       "Diabetes                          int64\n",
       "Arthritis                         int64\n",
       "Sex                               int64\n",
       "Age_Category                     object\n",
       "Height_(cm)                     float64\n",
       "Weight_(kg)                     float64\n",
       "BMI                             float64\n",
       "Smoking_History                   int64\n",
       "Alcohol_Consumption             float64\n",
       "Fruit_Consumption               float64\n",
       "Green_Vegetables_Consumption    float64\n",
       "FriedPotato_Consumption         float64\n",
       "Health_Rating                   float64\n",
       "dtype: object"
      ]
     },
     "execution_count": 13,
     "metadata": {},
     "output_type": "execute_result"
    }
   ],
   "source": [
    "df.dtypes"
   ]
  },
  {
   "cell_type": "code",
   "execution_count": 14,
   "id": "aa372ec5",
   "metadata": {},
   "outputs": [],
   "source": [
    "df = df.astype({'Health_Rating': 'category', 'Sex': 'category'})"
   ]
  },
  {
   "cell_type": "code",
   "execution_count": 15,
   "id": "3f94ea54",
   "metadata": {},
   "outputs": [
    {
     "data": {
      "text/plain": [
       "General_Health                    object\n",
       "Exercise                           int64\n",
       "Heart_Disease                      int64\n",
       "Skin_Cancer                        int64\n",
       "Other_Cancer                       int64\n",
       "Depression                         int64\n",
       "Diabetes                           int64\n",
       "Arthritis                          int64\n",
       "Sex                             category\n",
       "Age_Category                      object\n",
       "Height_(cm)                      float64\n",
       "Weight_(kg)                      float64\n",
       "BMI                              float64\n",
       "Smoking_History                    int64\n",
       "Alcohol_Consumption              float64\n",
       "Fruit_Consumption                float64\n",
       "Green_Vegetables_Consumption     float64\n",
       "FriedPotato_Consumption          float64\n",
       "Health_Rating                   category\n",
       "dtype: object"
      ]
     },
     "execution_count": 15,
     "metadata": {},
     "output_type": "execute_result"
    }
   ],
   "source": [
    "df.dtypes"
   ]
  },
  {
   "cell_type": "code",
   "execution_count": null,
   "id": "a1d9c2fa",
   "metadata": {},
   "outputs": [],
   "source": []
  },
  {
   "cell_type": "code",
   "execution_count": 16,
   "id": "d85ed2a5",
   "metadata": {},
   "outputs": [],
   "source": [
    "ohe = pd.get_dummies(df.Age_Category)\n",
    "\n",
    "df = df.join(ohe)"
   ]
  },
  {
   "cell_type": "code",
   "execution_count": 17,
   "id": "7d7a431a",
   "metadata": {},
   "outputs": [
    {
     "data": {
      "text/plain": [
       "(308854, 32)"
      ]
     },
     "execution_count": 17,
     "metadata": {},
     "output_type": "execute_result"
    }
   ],
   "source": [
    "df.shape"
   ]
  },
  {
   "cell_type": "markdown",
   "id": "f407312e",
   "metadata": {},
   "source": [
    "Because we have used one-hot-encoding, we know have 32 features. Time for some feature engineering."
   ]
  },
  {
   "cell_type": "code",
   "execution_count": 18,
   "id": "ecddbf8b",
   "metadata": {},
   "outputs": [
    {
     "data": {
      "text/html": [
       "<div>\n",
       "<style scoped>\n",
       "    .dataframe tbody tr th:only-of-type {\n",
       "        vertical-align: middle;\n",
       "    }\n",
       "\n",
       "    .dataframe tbody tr th {\n",
       "        vertical-align: top;\n",
       "    }\n",
       "\n",
       "    .dataframe thead th {\n",
       "        text-align: right;\n",
       "    }\n",
       "</style>\n",
       "<table border=\"1\" class=\"dataframe\">\n",
       "  <thead>\n",
       "    <tr style=\"text-align: right;\">\n",
       "      <th></th>\n",
       "      <th>General_Health</th>\n",
       "      <th>Exercise</th>\n",
       "      <th>Heart_Disease</th>\n",
       "      <th>Skin_Cancer</th>\n",
       "      <th>Other_Cancer</th>\n",
       "      <th>Depression</th>\n",
       "      <th>Diabetes</th>\n",
       "      <th>Arthritis</th>\n",
       "      <th>Sex</th>\n",
       "      <th>Age_Category</th>\n",
       "      <th>...</th>\n",
       "      <th>35-39</th>\n",
       "      <th>40-44</th>\n",
       "      <th>45-49</th>\n",
       "      <th>50-54</th>\n",
       "      <th>55-59</th>\n",
       "      <th>60-64</th>\n",
       "      <th>65-69</th>\n",
       "      <th>70-74</th>\n",
       "      <th>75-79</th>\n",
       "      <th>80+</th>\n",
       "    </tr>\n",
       "  </thead>\n",
       "  <tbody>\n",
       "    <tr>\n",
       "      <th>9050</th>\n",
       "      <td>Good</td>\n",
       "      <td>1</td>\n",
       "      <td>0</td>\n",
       "      <td>0</td>\n",
       "      <td>0</td>\n",
       "      <td>0</td>\n",
       "      <td>0</td>\n",
       "      <td>0</td>\n",
       "      <td>0</td>\n",
       "      <td>50-54</td>\n",
       "      <td>...</td>\n",
       "      <td>0</td>\n",
       "      <td>0</td>\n",
       "      <td>0</td>\n",
       "      <td>1</td>\n",
       "      <td>0</td>\n",
       "      <td>0</td>\n",
       "      <td>0</td>\n",
       "      <td>0</td>\n",
       "      <td>0</td>\n",
       "      <td>0</td>\n",
       "    </tr>\n",
       "  </tbody>\n",
       "</table>\n",
       "<p>1 rows × 32 columns</p>\n",
       "</div>"
      ],
      "text/plain": [
       "     General_Health  Exercise  Heart_Disease  Skin_Cancer  Other_Cancer  \\\n",
       "9050           Good         1              0            0             0   \n",
       "\n",
       "      Depression  Diabetes  Arthritis Sex Age_Category  ...  35-39  40-44  \\\n",
       "9050           0         0          0   0        50-54  ...      0      0   \n",
       "\n",
       "      45-49  50-54  55-59  60-64  65-69  70-74 75-79  80+  \n",
       "9050      0      1      0      0      0      0     0    0  \n",
       "\n",
       "[1 rows x 32 columns]"
      ]
     },
     "execution_count": 18,
     "metadata": {},
     "output_type": "execute_result"
    }
   ],
   "source": [
    "df.sample()"
   ]
  },
  {
   "cell_type": "code",
   "execution_count": 19,
   "id": "84464918",
   "metadata": {},
   "outputs": [
    {
     "name": "stderr",
     "output_type": "stream",
     "text": [
      "/var/folders/7w/235ps8kx5fz_tctwc7ghsxjm0000gn/T/ipykernel_10209/2582347099.py:1: FutureWarning: The default value of numeric_only in DataFrame.corr is deprecated. In a future version, it will default to False. Select only valid columns or specify the value of numeric_only to silence this warning.\n",
      "  corr_matrix = df.corr()\n"
     ]
    },
    {
     "name": "stdout",
     "output_type": "stream",
     "text": [
      "                              Heart_Disease\n",
      "Exercise                          -0.096347\n",
      "Skin_Cancer                        0.090848\n",
      "Other_Cancer                       0.092387\n",
      "Depression                         0.032526\n",
      "Diabetes                           0.172204\n",
      "Arthritis                          0.153913\n",
      "Height_(cm)                        0.015780\n",
      "Weight_(kg)                        0.045875\n",
      "BMI                                0.042666\n",
      "Smoking_History                    0.107797\n",
      "Alcohol_Consumption               -0.036569\n",
      "Fruit_Consumption                 -0.020055\n",
      "Green_Vegetables_Consumption      -0.024043\n",
      "FriedPotato_Consumption           -0.009227\n",
      "18-24                             -0.070569\n",
      "25-29                             -0.062012\n",
      "30-34                             -0.064630\n",
      "35-39                             -0.066256\n",
      "40-44                             -0.061058\n",
      "45-49                             -0.048030\n",
      "50-54                             -0.036866\n",
      "55-59                             -0.011456\n",
      "60-64                              0.015151\n",
      "65-69                              0.042809\n",
      "70-74                              0.080762\n",
      "75-79                              0.098688\n",
      "80+                                0.140293\n"
     ]
    },
    {
     "data": {
      "image/png": "[encoded data removed]",
      "text/plain": [
       "<Figure size 640x480 with 2 Axes>"
      ]
     },
     "metadata": {},
     "output_type": "display_data"
    }
   ],
   "source": [
    "corr_matrix = df.corr()\n",
    "hd = corr_matrix[['Heart_Disease']].drop(labels=['Heart_Disease'])\n",
    "print(hd)\n",
    "sns.heatmap(hd, annot=True, fmt='.3', cmap='RdBu_r')\n",
    "plt.show()"
   ]
  },
  {
   "cell_type": "markdown",
   "id": "29ec8c14",
   "metadata": {},
   "source": [
    "Fried potato consumption has little if any correlation with heart disease, so we'll remove this feature"
   ]
  },
  {
   "cell_type": "code",
   "execution_count": 20,
   "id": "d9e385ed",
   "metadata": {},
   "outputs": [],
   "source": [
    "df.drop(['FriedPotato_Consumption', 'General_Health', 'Age_Category'], axis=1, inplace=True)"
   ]
  },
  {
   "cell_type": "markdown",
   "id": "b900888b",
   "metadata": {},
   "source": [
    "There are too many features for sequential feature selection so it will be computationally expensive.\n",
    "\n",
    "Regularisation is a good next choice for feature selection.\n",
    "\n",
    "There is multicollinearity between independent variables, so Ridge is ideal to use.\n",
    "\n",
    "The default regularisation of logistic regression in sci-kit learn is Ridge.\n",
    "\n",
    "We need to standardise the data as we are using regression."
   ]
  },
  {
   "cell_type": "code",
   "execution_count": 21,
   "id": "b9b34816",
   "metadata": {},
   "outputs": [],
   "source": [
    "scaler = StandardScaler()"
   ]
  },
  {
   "cell_type": "code",
   "execution_count": 22,
   "id": "521ccf5e",
   "metadata": {},
   "outputs": [],
   "source": [
    "y = df['Heart_Disease']\n",
    "X = df.drop(columns = ['Heart_Disease'])\n",
    "X_scaled = scaler.fit_transform(X)\n",
    "from sklearn.model_selection import train_test_split\n",
    "X_train, X_test, y_train, y_test = train_test_split(X_scaled, y, test_size = 0.2, random_state = 0)"
   ]
  },
  {
   "cell_type": "code",
   "execution_count": null,
   "id": "15de4a3a",
   "metadata": {},
   "outputs": [],
   "source": []
  },
  {
   "cell_type": "markdown",
   "id": "784a0d95",
   "metadata": {},
   "source": [
    "Let's use cross validation with 5 folds, to find the optimum value of C."
   ]
  },
  {
   "cell_type": "code",
   "execution_count": 74,
   "id": "5a74c79b",
   "metadata": {},
   "outputs": [
    {
     "name": "stdout",
     "output_type": "stream",
     "text": [
      "[0.00141747] 0.9197579780237572\n",
      "33.51040697097778\n"
     ]
    }
   ],
   "source": [
    "from sklearn.linear_model import LogisticRegressionCV\n",
    "\n",
    "model = LogisticRegressionCV( Cs=np.logspace(-3,2, 100),\n",
    "                                  penalty='l2',\n",
    "                                scoring='accuracy', cv=5,\n",
    "                                  random_state=0,max_iter=10000)\n",
    "start_time1 = time.time()\n",
    "model.fit(X_train, y_train)\n",
    "\n",
    "duration_log = time.time() - start_time1\n",
    "\n",
    "print(model.C_, model.scores_[1].mean(axis=1).max())\n",
    "print(duration_log)"
   ]
  },
  {
   "cell_type": "markdown",
   "id": "eaa95d57",
   "metadata": {},
   "source": [
    "model.C_ gives an array of C that maps to the best scores across every class.\n",
    "\n",
    "model.scores_ provides a dictionary with an array of the score of each C value for each of the 5 folds as the dict value."
   ]
  },
  {
   "cell_type": "code",
   "execution_count": 76,
   "id": "e795f53e",
   "metadata": {},
   "outputs": [
    {
     "name": "stdout",
     "output_type": "stream",
     "text": [
      "[0.91975798 0.91945727 0.91880385 0.91897139 0.91965376]\n"
     ]
    }
   ],
   "source": [
    "print(model.scores_[1].mean(axis=1))"
   ]
  },
  {
   "cell_type": "code",
   "execution_count": 25,
   "id": "5782c527",
   "metadata": {},
   "outputs": [
    {
     "data": {
      "text/plain": [
       "array([[-0.02215637,  0.0457991 ,  0.02384275,  0.08892784,  0.19255291,\n",
       "         0.13952642,  0.37341915, -0.03631627,  0.00660675,  0.015152  ,\n",
       "         0.19172625, -0.08132184,  0.00111631,  0.01328667,  0.57251861,\n",
       "        -0.34097173, -0.27944324, -0.25325657, -0.26314911, -0.20277311,\n",
       "        -0.11761007, -0.03858758,  0.04423164,  0.12024104,  0.20225379,\n",
       "         0.26974469,  0.28624857,  0.36573116]])"
      ]
     },
     "execution_count": 25,
     "metadata": {},
     "output_type": "execute_result"
    }
   ],
   "source": [
    "model.coef_"
   ]
  },
  {
   "cell_type": "code",
   "execution_count": 26,
   "id": "e4d5ec7f",
   "metadata": {},
   "outputs": [
    {
     "name": "stdout",
     "output_type": "stream",
     "text": [
      "0.9194238373340132\n"
     ]
    },
    {
     "data": {
      "text/plain": [
       "0.9198167424843373"
      ]
     },
     "execution_count": 26,
     "metadata": {},
     "output_type": "execute_result"
    }
   ],
   "source": [
    "print(model.score(X_train, y_train))\n",
    "model.score(X_test,y_test)"
   ]
  },
  {
   "cell_type": "markdown",
   "id": "b6766a40",
   "metadata": {},
   "source": [
    "The model performs similarly on the training and test set, meaning we have struck a good bias-variance balance."
   ]
  },
  {
   "cell_type": "markdown",
   "id": "0c0a1c6b",
   "metadata": {},
   "source": [
    "The Logistic Regression model with ridge regularisation can classify the data with a 91.98% accuracy.\n",
    "\n",
    "Can Lasso or elasticnet perform better?\n",
    "\n",
    "The liblinear solver is too slow, but using l1_ratios=1 is equivalent to using Lasso regularisation."
   ]
  },
  {
   "cell_type": "code",
   "execution_count": 27,
   "id": "d6884e61",
   "metadata": {},
   "outputs": [
    {
     "data": {
      "text/plain": [
       "0.9196548542196176"
      ]
     },
     "execution_count": 27,
     "metadata": {},
     "output_type": "execute_result"
    }
   ],
   "source": [
    "modelElastic = LogisticRegressionCV( Cs=np.logspace(-3,2, 100),\n",
    "                                  penalty='elasticnet', solver = 'saga',\n",
    "                                scoring='accuracy', cv=5,\n",
    "                                  random_state=42,max_iter=10000, l1_ratios=[1])\n",
    "modelElastic.fit(X_train, y_train)\n",
    "modelElastic.score(X_test, y_test)"
   ]
  },
  {
   "cell_type": "markdown",
   "id": "866be16f",
   "metadata": {},
   "source": [
    "Logistic Regression with ridge penalty works slight better than Lasso."
   ]
  },
  {
   "cell_type": "markdown",
   "id": "5202733d",
   "metadata": {},
   "source": [
    "Another classifier we could use is a random forest."
   ]
  },
  {
   "cell_type": "markdown",
   "id": "c17344dc",
   "metadata": {},
   "source": [
    "Let's start with a Decision Tree"
   ]
  },
  {
   "cell_type": "code",
   "execution_count": 77,
   "id": "e2571955",
   "metadata": {},
   "outputs": [],
   "source": [
    "simple = DecisionTreeClassifier(random_state=0)"
   ]
  },
  {
   "cell_type": "code",
   "execution_count": 78,
   "id": "7b72a2fc",
   "metadata": {},
   "outputs": [
    {
     "data": {
      "text/html": [
       "<style>#sk-container-id-6 {color: black;background-color: white;}#sk-container-id-6 pre{padding: 0;}#sk-container-id-6 div.sk-toggleable {background-color: white;}#sk-container-id-6 label.sk-toggleable__label {cursor: pointer;display: block;width: 100%;margin-bottom: 0;padding: 0.3em;box-sizing: border-box;text-align: center;}#sk-container-id-6 label.sk-toggleable__label-arrow:before {content: \"▸\";float: left;margin-right: 0.25em;color: #696969;}#sk-container-id-6 label.sk-toggleable__label-arrow:hover:before {color: black;}#sk-container-id-6 div.sk-estimator:hover label.sk-toggleable__label-arrow:before {color: black;}#sk-container-id-6 div.sk-toggleable__content {max-height: 0;max-width: 0;overflow: hidden;text-align: left;background-color: #f0f8ff;}#sk-container-id-6 div.sk-toggleable__content pre {margin: 0.2em;color: black;border-radius: 0.25em;background-color: #f0f8ff;}#sk-container-id-6 input.sk-toggleable__control:checked~div.sk-toggleable__content {max-height: 200px;max-width: 100%;overflow: auto;}#sk-container-id-6 input.sk-toggleable__control:checked~label.sk-toggleable__label-arrow:before {content: \"▾\";}#sk-container-id-6 div.sk-estimator input.sk-toggleable__control:checked~label.sk-toggleable__label {background-color: #d4ebff;}#sk-container-id-6 div.sk-label input.sk-toggleable__control:checked~label.sk-toggleable__label {background-color: #d4ebff;}#sk-container-id-6 input.sk-hidden--visually {border: 0;clip: rect(1px 1px 1px 1px);clip: rect(1px, 1px, 1px, 1px);height: 1px;margin: -1px;overflow: hidden;padding: 0;position: absolute;width: 1px;}#sk-container-id-6 div.sk-estimator {font-family: monospace;background-color: #f0f8ff;border: 1px dotted black;border-radius: 0.25em;box-sizing: border-box;margin-bottom: 0.5em;}#sk-container-id-6 div.sk-estimator:hover {background-color: #d4ebff;}#sk-container-id-6 div.sk-parallel-item::after {content: \"\";width: 100%;border-bottom: 1px solid gray;flex-grow: 1;}#sk-container-id-6 div.sk-label:hover label.sk-toggleable__label {background-color: #d4ebff;}#sk-container-id-6 div.sk-serial::before {content: \"\";position: absolute;border-left: 1px solid gray;box-sizing: border-box;top: 0;bottom: 0;left: 50%;z-index: 0;}#sk-container-id-6 div.sk-serial {display: flex;flex-direction: column;align-items: center;background-color: white;padding-right: 0.2em;padding-left: 0.2em;position: relative;}#sk-container-id-6 div.sk-item {position: relative;z-index: 1;}#sk-container-id-6 div.sk-parallel {display: flex;align-items: stretch;justify-content: center;background-color: white;position: relative;}#sk-container-id-6 div.sk-item::before, #sk-container-id-6 div.sk-parallel-item::before {content: \"\";position: absolute;border-left: 1px solid gray;box-sizing: border-box;top: 0;bottom: 0;left: 50%;z-index: -1;}#sk-container-id-6 div.sk-parallel-item {display: flex;flex-direction: column;z-index: 1;position: relative;background-color: white;}#sk-container-id-6 div.sk-parallel-item:first-child::after {align-self: flex-end;width: 50%;}#sk-container-id-6 div.sk-parallel-item:last-child::after {align-self: flex-start;width: 50%;}#sk-container-id-6 div.sk-parallel-item:only-child::after {width: 0;}#sk-container-id-6 div.sk-dashed-wrapped {border: 1px dashed gray;margin: 0 0.4em 0.5em 0.4em;box-sizing: border-box;padding-bottom: 0.4em;background-color: white;}#sk-container-id-6 div.sk-label label {font-family: monospace;font-weight: bold;display: inline-block;line-height: 1.2em;}#sk-container-id-6 div.sk-label-container {text-align: center;}#sk-container-id-6 div.sk-container {/* jupyter's `normalize.less` sets `[hidden] { display: none; }` but bootstrap.min.css set `[hidden] { display: none !important; }` so we also need the `!important` here to be able to override the default hidden behavior on the sphinx rendered scikit-learn.org. See: https://github.com/scikit-learn/scikit-learn/issues/21755 */display: inline-block !important;position: relative;}#sk-container-id-6 div.sk-text-repr-fallback {display: none;}</style><div id=\"sk-container-id-6\" class=\"sk-top-container\"><div class=\"sk-text-repr-fallback\"><pre>DecisionTreeClassifier(random_state=0)</pre><b>In a Jupyter environment, please rerun this cell to show the HTML representation or trust the notebook. <br />On GitHub, the HTML representation is unable to render, please try loading this page with nbviewer.org.</b></div><div class=\"sk-container\" hidden><div class=\"sk-item\"><div class=\"sk-estimator sk-toggleable\"><input class=\"sk-toggleable__control sk-hidden--visually\" id=\"sk-estimator-id-14\" type=\"checkbox\" checked><label for=\"sk-estimator-id-14\" class=\"sk-toggleable__label sk-toggleable__label-arrow\">DecisionTreeClassifier</label><div class=\"sk-toggleable__content\"><pre>DecisionTreeClassifier(random_state=0)</pre></div></div></div></div></div>"
      ],
      "text/plain": [
       "DecisionTreeClassifier(random_state=0)"
      ]
     },
     "execution_count": 78,
     "metadata": {},
     "output_type": "execute_result"
    }
   ],
   "source": [
    "simple.fit(X_train, y_train)"
   ]
  },
  {
   "cell_type": "code",
   "execution_count": 79,
   "id": "23b9a0b7",
   "metadata": {},
   "outputs": [
    {
     "name": "stdout",
     "output_type": "stream",
     "text": [
      "0.9998704888640659\n"
     ]
    },
    {
     "data": {
      "text/plain": [
       "0.8630425280471419"
      ]
     },
     "execution_count": 79,
     "metadata": {},
     "output_type": "execute_result"
    }
   ],
   "source": [
    "print(simple.score(X_train, y_train))\n",
    "simple.score(X_test, y_test)"
   ]
  },
  {
   "cell_type": "markdown",
   "id": "1a0dcdb0",
   "metadata": {},
   "source": [
    "The model performs extremely well on the training set, but not as well on the test set. The model is overfitted."
   ]
  },
  {
   "cell_type": "code",
   "execution_count": 80,
   "id": "74dd22f9",
   "metadata": {},
   "outputs": [
    {
     "name": "stdout",
     "output_type": "stream",
     "text": [
      "52863\n"
     ]
    },
    {
     "data": {
      "text/plain": [
       "44"
      ]
     },
     "execution_count": 80,
     "metadata": {},
     "output_type": "execute_result"
    }
   ],
   "source": [
    "print(simple.tree_.node_count)\n",
    "simple.tree_.max_depth"
   ]
  },
  {
   "cell_type": "code",
   "execution_count": 81,
   "id": "8de52056",
   "metadata": {},
   "outputs": [],
   "source": [
    "parameters = {'criterion': Categorical(['gini','entropy']),\n",
    "              'max_depth': Integer(1,44,prior='log-uniform'),\n",
    "              'min_samples_split': Real(1e-3,1.0,prior='log-uniform'),\n",
    "              'max_leaf_nodes': Integer(3,50000,prior='uniform')}\n",
    "              \n",
    "\n",
    "b1 = BayesSearchCV(DecisionTreeClassifier(), parameters, cv=5, n_iter=20, random_state=0, n_jobs=-1)"
   ]
  },
  {
   "cell_type": "code",
   "execution_count": 82,
   "id": "5922a1a4",
   "metadata": {
    "scrolled": false
   },
   "outputs": [],
   "source": [
    "start_time2 = time.time()\n",
    "b1.fit(X_train, y_train)\n",
    "\n",
    "duration_bayestree = time.time() - start_time2"
   ]
  },
  {
   "cell_type": "code",
   "execution_count": 83,
   "id": "f49a9825",
   "metadata": {},
   "outputs": [
    {
     "name": "stdout",
     "output_type": "stream",
     "text": [
      "20.621856927871704\n"
     ]
    }
   ],
   "source": [
    "print(duration_bayestree)"
   ]
  },
  {
   "cell_type": "code",
   "execution_count": 35,
   "id": "3d54e0fc",
   "metadata": {},
   "outputs": [
    {
     "data": {
      "text/plain": [
       "'1.23.5'"
      ]
     },
     "execution_count": 35,
     "metadata": {},
     "output_type": "execute_result"
    }
   ],
   "source": [
    "np.__version__"
   ]
  },
  {
   "cell_type": "markdown",
   "id": "de308752",
   "metadata": {},
   "source": [
    "If you are going to try this for yourself, you need to downgrade to this version of numpy as skopt 0.9 is not compatible with the newest version of numpy."
   ]
  },
  {
   "cell_type": "code",
   "execution_count": 50,
   "id": "f0e4a5da",
   "metadata": {},
   "outputs": [
    {
     "data": {
      "text/plain": [
       "OrderedDict([('criterion', 'gini'),\n",
       "             ('max_depth', 7),\n",
       "             ('max_leaf_nodes', 16756),\n",
       "             ('min_samples_split', 0.0034316856237309006)])"
      ]
     },
     "execution_count": 50,
     "metadata": {},
     "output_type": "execute_result"
    }
   ],
   "source": [
    "b1.best_params_"
   ]
  },
  {
   "cell_type": "code",
   "execution_count": 51,
   "id": "99894f7c",
   "metadata": {},
   "outputs": [
    {
     "name": "stdout",
     "output_type": "stream",
     "text": [
      "0.9194683567869906\n"
     ]
    },
    {
     "data": {
      "text/plain": [
       "0.9189911123342669"
      ]
     },
     "execution_count": 51,
     "metadata": {},
     "output_type": "execute_result"
    }
   ],
   "source": [
    "print(b1.score(X_train, y_train))\n",
    "b1.score(X_test, y_test)"
   ]
  },
  {
   "cell_type": "markdown",
   "id": "24ac9a70",
   "metadata": {},
   "source": [
    "A vast improvement compared to the decision tree with no hyperparameter tuning"
   ]
  },
  {
   "cell_type": "code",
   "execution_count": 85,
   "id": "55bac463",
   "metadata": {},
   "outputs": [
    {
     "name": "stdout",
     "output_type": "stream",
     "text": [
      "This tuned logistic regression model is 0.08256301500704222% more accurate) but take 12.888550043106079 seconds longer\n"
     ]
    }
   ],
   "source": [
    "diff = model.score(X_test,y_test) - b1.score(X_test, y_test)\n",
    "print(f\"This tuned logistic regression model is {diff*100}% more accurate) but take \\\n",
    "{duration_log - duration_bayestree} seconds longer\")"
   ]
  },
  {
   "cell_type": "markdown",
   "id": "2a885d6d",
   "metadata": {},
   "source": [
    "This is such a small increase, that if our dataset was larger, we'd definitely choose the tuned decision tree as it is less computationally expensive."
   ]
  },
  {
   "cell_type": "code",
   "execution_count": null,
   "id": "4eef7f52",
   "metadata": {},
   "outputs": [],
   "source": []
  }
 ],
 "metadata": {
  "kernelspec": {
   "display_name": "Python 3 (ipykernel)",
   "language": "python",
   "name": "python3"
  },
  "language_info": {
   "codemirror_mode": {
    "name": "ipython",
    "version": 3
   },
   "file_extension": ".py",
   "mimetype": "text/x-python",
   "name": "python",
   "nbconvert_exporter": "python",
   "pygments_lexer": "ipython3",
   "version": "3.9.16"
  }
 },
 "nbformat": 4,
 "nbformat_minor": 5
}
